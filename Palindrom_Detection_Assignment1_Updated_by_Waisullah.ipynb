{
  "cells": [
    {
      "cell_type": "code",
      "execution_count": null,
      "metadata": {
        "id": "uxxN1QxRnTTw"
      },
      "outputs": [],
      "source": [
        "import numpy as np"
      ]
    },
    {
      "cell_type": "code",
      "execution_count": null,
      "metadata": {
        "id": "RcZYU9WjYAMD"
      },
      "outputs": [],
      "source": [
        "# For Over-sampling, we duplicate this 30 times.\n",
        "pal_only = [[0, 0, 0, 0, 0, 0, 0, 0, 0, 0],\n",
        "[0, 0, 0, 0, 1, 1, 0, 0, 0, 0],\n",
        "[0, 0, 0, 1, 0, 0, 1, 0, 0, 0],\n",
        "[0, 0, 0, 1, 1, 1, 1, 0, 0, 0],\n",
        "[0, 0, 1, 0, 0, 0, 0, 1, 0, 0],\n",
        "[0, 0, 1, 0, 1, 1, 0, 1, 0, 0],\n",
        "[0, 0, 1, 1, 0, 0, 1, 1, 0, 0],\n",
        "[0, 0, 1, 1, 1, 1, 1, 1, 0, 0],\n",
        "[0, 1, 0, 0, 0, 0, 0, 0, 1, 0],\n",
        "[0, 1, 0, 0, 1, 1, 0, 0, 1, 0],\n",
        "[0, 1, 0, 1, 0, 0, 1, 0, 1, 0],\n",
        "[0, 1, 0, 1, 1, 1, 1, 0, 1, 0],\n",
        "[0, 1, 1, 0, 0, 0, 0, 1, 1, 0],\n",
        "[0, 1, 1, 0, 1, 1, 0, 1, 1, 0],\n",
        "[0, 1, 1, 1, 0, 0, 1, 1, 1, 0],\n",
        "[0, 1, 1, 1, 1, 1, 1, 1, 1, 0],\n",
        "[1, 0, 0, 0, 0, 0, 0, 0, 0, 1],\n",
        "[1, 0, 0, 0, 1, 1, 0, 0, 0, 1],\n",
        "[1, 0, 0, 1, 0, 0, 1, 0, 0, 1],\n",
        "[1, 0, 0, 1, 1, 1, 1, 0, 0, 1],\n",
        "[1, 0, 1, 0, 0, 0, 0, 1, 0, 1],\n",
        "[1, 0, 1, 0, 1, 1, 0, 1, 0, 1],\n",
        "[1, 0, 1, 1, 0, 0, 1, 1, 0, 1],\n",
        "[1, 0, 1, 1, 1, 1, 1, 1, 0, 1],\n",
        "[1, 1, 0, 0, 0, 0, 0, 0, 1, 1],\n",
        "[1, 1, 0, 0, 1, 1, 0, 0, 1, 1],\n",
        "[1, 1, 0, 1, 0, 0, 1, 0, 1, 1],\n",
        "[1, 1, 0, 1, 1, 1, 1, 0, 1, 1],\n",
        "[1, 1, 1, 0, 0, 0, 0, 1, 1, 1],\n",
        "[1, 1, 1, 0, 1, 1, 0, 1, 1, 1],\n",
        "[1, 1, 1, 1, 0, 0, 1, 1, 1, 1],\n",
        "[1, 1, 1, 1, 1, 1, 1, 1, 1, 1]]\n",
        "\n",
        "def custom_accuracy_score(y_test, y_pred):\n",
        "    y_pred = np.array(y_pred).flatten()\n",
        "    correct_predictions = np.sum(y_test == y_pred)\n",
        "    total_predictions = len(y_test)\n",
        "    return correct_predictions / total_predictions\n",
        "\n",
        "def precision(y_true, y_pred):\n",
        "  tp = sum(y_true[i] == 1 and y_pred[i] == 1 for i in range(len(y_true)))\n",
        "  fp = sum(y_true[i] == 0 and y_pred[i] == 1 for i in range(len(y_true)))\n",
        "  return tp / (tp + fp)\n",
        "\n",
        "def recall(y_true, y_pred):\n",
        "  tp = sum(y_true[i] == 1 and y_pred[i] == 1 for i in range(len(y_true)))\n",
        "  fn = sum(y_true[i] == 1 and y_pred[i] == 0 for i in range(len(y_true)))\n",
        "  return tp / (tp + fn)\n",
        "\n",
        "def f1_score(y_true, y_pred):\n",
        "  p = precision(y_true, y_pred)\n",
        "  r = recall(y_true, y_pred)\n",
        "  return 2 * (p * r) / (p + r)\n",
        "\n",
        "def relu(x):\n",
        "    return np.maximum(0, x)\n",
        "\n",
        "def relu_derivative(x):\n",
        "    return (x > 0).astype(float)\n",
        "\n",
        "def sigmoid(x):\n",
        "    return 1 / (1 + np.exp(-x))\n",
        "\n",
        "def sigmoid_derivative(x):\n",
        "    return x * (1 - x)"
      ]
    },
    {
      "cell_type": "code",
      "execution_count": null,
      "metadata": {
        "id": "7_bsLW8KYAMJ"
      },
      "outputs": [],
      "source": [
        "# '010b': The format specifier indicating binary representation with leading zeros ('0') and a total width of 10 ('10').\n",
        "all_possible = np.array([[int(x) for x in format(i, '010b')] for i in range(1024)])\n",
        "palidrome_repeated = np.tile(pal_only, (30,1))\n",
        "all_binary_strings = np.vstack((palidrome_repeated, all_possible))"
      ]
    },
    {
      "cell_type": "code",
      "execution_count": null,
      "metadata": {
        "id": "QbGop4jbnTTx",
        "outputId": "52571f0c-7f20-4e51-d282-beed47861167"
      },
      "outputs": [
        {
          "name": "stdout",
          "output_type": "stream",
          "text": [
            "[[0 0 0 ... 0 0 0]\n",
            " [0 0 0 ... 0 0 0]\n",
            " [0 0 0 ... 0 0 0]\n",
            " ...\n",
            " [1 1 1 ... 1 0 1]\n",
            " [1 1 1 ... 1 1 0]\n",
            " [1 1 1 ... 1 1 1]]\n",
            "1984\n"
          ]
        }
      ],
      "source": [
        "print(all_binary_strings)\n",
        "print(len(all_binary_strings))"
      ]
    },
    {
      "cell_type": "code",
      "execution_count": null,
      "metadata": {
        "id": "D1wesIziYAML"
      },
      "outputs": [],
      "source": [
        "np.random.shuffle(all_binary_strings)\n",
        "# 1: This specifies that the array should be repeated only once along the second axis (horizontally).\n",
        "labels = np.array([1 if np.array_equal(x, x[::-1]) else 0 for x in all_binary_strings])"
      ]
    },
    {
      "cell_type": "code",
      "execution_count": null,
      "metadata": {
        "id": "xPlAy3mbYAML"
      },
      "outputs": [],
      "source": [
        "input_layer_size = 10\n",
        "hidden_layer_size = 2\n",
        "output_layer_size = 1\n",
        "learning_rate = 0.001\n",
        "epochs = 20000\n",
        "kfolds = 5\n",
        "fold_size = len(all_binary_strings) // kfolds\n",
        "\n",
        "np.random.seed(0)\n",
        "'''\n",
        "That normalization term is famous technique: Xavier initialization.\n",
        "  : Used to initialize the weights such that the variance of the activations are the same across every layer.\n",
        "'''\n",
        "W1 = np.random.randn(input_layer_size, hidden_layer_size) * np.sqrt(2. / input_layer_size)\n",
        "B1 = np.zeros((1, hidden_layer_size))\n",
        "W2 = np.random.randn(hidden_layer_size, output_layer_size) * np.sqrt(2. / hidden_layer_size)\n",
        "B2 = np.zeros((1, output_layer_size))\n",
        "\n",
        "p_scores = []\n",
        "r_scores = []\n",
        "f_scores = []\n",
        "\n",
        "accuracy_scores = []\n",
        "classwise_reports = []"
      ]
    },
    {
      "cell_type": "code",
      "execution_count": null,
      "metadata": {
        "id": "1kaROXbMYAMM"
      },
      "outputs": [],
      "source": [
        "for fold in range(kfolds):\n",
        "    test_indices = range(fold * fold_size, (fold + 1) * fold_size)\n",
        "    X_test, y_test = all_binary_strings[test_indices], labels[test_indices]\n",
        "    X_train = np.delete(all_binary_strings, test_indices, axis=0)\n",
        "    y_train = np.delete(labels, test_indices)\n",
        "    m =X_train.shape[1]\n",
        "\n",
        "\n",
        "    for epoch in range(epochs):\n",
        "\n",
        "        net1 = np.dot(X_train, W1) + B1\n",
        "        O1 = relu(net1)\n",
        "\n",
        "        net2 = np.dot(O1, W2) + B2\n",
        "        O2 = sigmoid(net2)\n",
        "\n",
        "        dnet2 = y_train.reshape(-1, 1) - O2\n",
        "        dW2 = (1/m) * np.dot(O1.T, dnet2)\n",
        "        dB2 = (1/m) * np.sum(dnet2, axis=0, keepdims=True)\n",
        "\n",
        "        dnet1 = np.dot(dnet2, W2.T) * relu_derivative(O1)\n",
        "        dW1 = (1/m) * np.dot(X_train.T, dnet1)\n",
        "        dB1 = (1/m) * np.sum(dnet1, axis=0, keepdims=True)\n",
        "\n",
        "        W2 += learning_rate * dW2\n",
        "        B2 +=  learning_rate * dB2\n",
        "        W1 += learning_rate * dW1\n",
        "        B1 += learning_rate * dB1\n",
        "\n",
        "    net1_test = np.dot(X_test, W1) + B1\n",
        "    O1_test = relu(net1_test)\n",
        "    net2_test = np.dot(O1_test, W2) + B2\n",
        "    O2_test = sigmoid(net2_test)\n",
        "    predictions = (O2_test > 0.5).astype(int)\n",
        "\n",
        "    accuracy = custom_accuracy_score(y_test, predictions)\n",
        "    accuracy_scores.append(accuracy)"
      ]
    },
    {
      "cell_type": "code",
      "execution_count": null,
      "metadata": {
        "id": "mtkSoelmnTTy",
        "outputId": "b4a3945c-c86e-4bba-d429-15f06f5af611"
      },
      "outputs": [
        {
          "name": "stdout",
          "output_type": "stream",
          "text": [
            "Overall Accuracy: 99.49494949494951\n",
            "Class 0 Accuracy: 99.49238578680203\n",
            "Class 1 Accuracy: 100.0\n"
          ]
        }
      ],
      "source": [
        "overall_accuracy = np.mean(accuracy_scores)\n",
        "print(\"Overall Accuracy:\", overall_accuracy * 100)\n",
        "classwise_accuracies = []\n",
        "for i in range(len(np.unique(y_test))):\n",
        "    class_indices = np.where(y_test == i)[0]\n",
        "    class_accuracy = custom_accuracy_score(\n",
        "        y_test[class_indices], predictions[class_indices])\n",
        "    classwise_accuracies.append(class_accuracy*100)\n",
        "    print(\"Class\", i, \"Accuracy:\", class_accuracy*100)"
      ]
    },
    {
      "cell_type": "markdown",
      "metadata": {
        "id": "QIh4zcunnTTz"
      },
      "source": [
        "# Visualization"
      ]
    },
    {
      "cell_type": "code",
      "execution_count": null,
      "metadata": {
        "id": "s9Ua6sVvnTTz",
        "outputId": "aa4ad903-03b4-48b1-a5da-baf0f65867dd"
      },
      "outputs": [
        {
          "name": "stdout",
          "output_type": "stream",
          "text": [
            "Prediction for input '0101111010': 1\n"
          ]
        }
      ],
      "source": [
        "def predict_palindrome(input_string, W1, B1, W2, B2):\n",
        "    # Convert the input string into a binary array\n",
        "    input_array = np.array([[int(x) for x in input_string]])\n",
        "\n",
        "    net1 = np.dot(input_array, W1) + B1\n",
        "    O1 = relu(net1)\n",
        "    net2 = np.dot(O1, W2) + B2\n",
        "    O2 = sigmoid(net2)\n",
        "\n",
        "    # Convert final output to binary prediction (0 or 1)\n",
        "    prediction = int(O2 > 0.5)\n",
        "\n",
        "    return prediction\n",
        "\n",
        "# Example usage:\n",
        "input_string = \"0101111010\"  # Example input string\n",
        "prediction = predict_palindrome(input_string, W1, B1, W2, B2)\n",
        "print(\"Prediction for input '{}': {}\".format(input_string, prediction))"
      ]
    },
    {
      "cell_type": "code",
      "execution_count": null,
      "metadata": {
        "id": "9IjpoIuZnTTz",
        "outputId": "a611fe45-2afd-4c89-e092-baf044fe11cc"
      },
      "outputs": [
        {
          "name": "stderr",
          "output_type": "stream",
          "text": [
            "c:\\Users\\waisullah yousofi\\.conda\\envs\\env38\\lib\\site-packages\\tqdm\\auto.py:21: TqdmWarning: IProgress not found. Please update jupyter and ipywidgets. See https://ipywidgets.readthedocs.io/en/stable/user_install.html\n",
            "  from .autonotebook import tqdm as notebook_tqdm\n"
          ]
        }
      ],
      "source": [
        "import os\n",
        "import ecco\n",
        "from IPython import display as d\n",
        "from sklearn import decomposition"
      ]
    },
    {
      "cell_type": "code",
      "execution_count": null,
      "metadata": {
        "id": "uhncqBBinTT0"
      },
      "outputs": [],
      "source": [
        "class NMF:\n",
        "    \"\"\" Conducts Non-negative Matrix Factorization and holds the models and components \"\"\"\n",
        "\n",
        "    def __init__(self, activations, n_components, token_ids, binary_string):\n",
        "        \"\"\"\n",
        "        Receives a neuron activations matrix from and decomposes it using NMF into the number\n",
        "        of components specified by `n_components`.\n",
        "        For example:\n",
        "        if activation matrix is of size 10000 by 10 neurons.\n",
        "        NMF reduces them to 32 components that can reveal interesting\n",
        "        underlying firing patterns of actual activations.\n",
        "\n",
        "        Args:\n",
        "        activations: Activations matrix of dimensions in our case if is(input len, number of neurons in hidden layer)\n",
        "        n_components: Number of components/factors to reduce the neuron factors to.\n",
        "        token_ids: List of tokens ids.\n",
        "        binary strings: list of binary strings\n",
        "\n",
        "        variables:\n",
        "        n_input_tokens: Number of input tokens, in our case, input len or num of test instances.\n",
        "        _path: Disk path to find javascript that create interactive explorables\n",
        "        \"\"\"\n",
        "\n",
        "        self.activations = activations.T\n",
        "        self._path = os.path.dirname(ecco.__file__)\n",
        "        self.token_ids = token_ids\n",
        "        self.n_input_tokens = len(binary_string)\n",
        "        # print('token_ids', token_ids)\n",
        "        self.tokens = binary_string\n",
        "        self.n_components = n_components\n",
        "        n_output_tokens = self.activations.shape[-1]\n",
        "        # print('n_output_tokens', n_output_tokens, self.activations.shape)\n",
        "\n",
        "        # Run NMF. 'activations' is neuron activations shaped (neurons (and layers), positions (and batches))\n",
        "        # Gets rid of negative activation values\n",
        "        self.activations = np.maximum(self.activations, 0).T\n",
        "\n",
        "        # because number of components can't be mor than input length.\n",
        "        self.n_components = min([n_components, n_output_tokens])\n",
        "        # print('n_output_tokens', n_output_tokens, self.activations.shape)\n",
        "        self.nmf_model = decomposition.NMF(n_components=n_components,\n",
        "                                           init='random',\n",
        "                                           random_state=0,\n",
        "                                           max_iter=50000)\n",
        "        self.components = self.nmf_model.fit_transform(self.activations).T\n",
        "\n",
        "        # print(\"#components,activation,compoents shape\", n_components,self.activations.shape,   self.components.shape)\n",
        "\n",
        "    def explore(self):\n",
        "        \"\"\"\n",
        "        Show interactive explorable for a single sequence with sparklines to isolate factors.\n",
        "        Example:\n",
        "        \"\"\"\n",
        "        tokens = []\n",
        "        for idx, token in enumerate(self.tokens):\n",
        "            type = \"input\" if idx < self.n_input_tokens else 'output'\n",
        "            tokens.append({'token': token.lstrip('Ġ') if token.startswith('Ġ') else token,\n",
        "                           'token_id': int(self.token_ids[idx]),\n",
        "                           'type': type,\n",
        "                           'position': idx\n",
        "                           })\n",
        "\n",
        "        factors = [comp.tolist() for comp in self.components]\n",
        "        # print(self.components.shape)\n",
        "\n",
        "        data = {\n",
        "            # A list of dicts. Each in the shape {\n",
        "            # Example: [{'token': '00000000000', 'token_id': 0, 'type': 'input', 'position': 0}]\n",
        "            'tokens': tokens,\n",
        "            'factors': [factors]\n",
        "        }\n",
        "        d.display(d.HTML(filename=os.path.join(\n",
        "            self._path, \"html\", \"setup.html\")))\n",
        "        js = f\"\"\"\n",
        "         requirejs(['basic', 'ecco'], function(basic, ecco){{\n",
        "            const viz_id = basic.init()\n",
        "            ecco.interactiveTokensAndFactorSparklines(viz_id, {data},\n",
        "          )\n",
        "         }}, function (err) {{\n",
        "            console.log(err);\n",
        "        }})\"\"\"\n",
        "        d.display(d.Javascript(js))"
      ]
    },
    {
      "cell_type": "code",
      "execution_count": null,
      "metadata": {
        "id": "derriwh1nTT0"
      },
      "outputs": [],
      "source": [
        "# test case of 15 instances\n",
        "pals_test = np.array([[1, 1, 1, 0, 0, 0, 0, 1, 1, 1],\n",
        "                      [1, 0, 0, 0, 0, 0, 0, 0, 0, 1],\n",
        "                      [0, 0, 0, 0, 0, 0, 0, 0, 0, 0],\n",
        "                      [1, 1, 0, 0, 0, 0, 0, 0, 1, 1],\n",
        "                      [1, 1, 0, 0, 0, 0, 0, 1, 0, 0],\n",
        "                      [1, 1, 0, 0, 0, 0, 0, 1, 0, 1],\n",
        "                      [1, 1, 0, 0, 0, 0, 0, 1, 1, 0],\n",
        "                      [1, 1, 0, 0, 0, 0, 0, 1, 1, 1],\n",
        "                      [0, 0, 0, 1, 0, 0, 1, 0, 0, 0],\n",
        "                      [1, 1, 0, 0, 0, 0, 1, 0, 0, 1],\n",
        "                      [1, 1, 0, 0, 0, 0, 1, 0, 1, 0],\n",
        "                      [1, 1, 0, 0, 0, 0, 1, 0, 1, 1],\n",
        "                      [1, 1, 0, 0, 0, 0, 1, 1, 0, 0],\n",
        "                      [1, 1, 0, 0, 0, 0, 1, 1, 0, 1],\n",
        "                      [1, 1, 1, 1, 1, 1, 1, 1, 1, 1]])"
      ]
    },
    {
      "cell_type": "code",
      "execution_count": null,
      "metadata": {
        "id": "mqMRmtXenTT0",
        "outputId": "339527fb-59e8-407d-8894-230159f20916"
      },
      "outputs": [
        {
          "name": "stdout",
          "output_type": "stream",
          "text": [
            "Binary Array:\n",
            "[[1 1 1 0 0 0 0 1 1 1]\n",
            " [1 0 0 0 0 0 0 0 0 1]\n",
            " [0 0 0 0 0 0 0 0 0 0]\n",
            " [1 1 0 0 0 0 0 0 1 1]\n",
            " [1 1 0 0 0 0 0 1 0 0]\n",
            " [1 1 0 0 0 0 0 1 0 1]\n",
            " [1 1 0 0 0 0 0 1 1 0]\n",
            " [1 1 0 0 0 0 0 1 1 1]\n",
            " [0 0 0 1 0 0 1 0 0 0]\n",
            " [1 1 0 0 0 0 1 0 0 1]\n",
            " [1 1 0 0 0 0 1 0 1 0]\n",
            " [1 1 0 0 0 0 1 0 1 1]\n",
            " [1 1 0 0 0 0 1 1 0 0]\n",
            " [1 1 0 0 0 0 1 1 0 1]\n",
            " [1 1 1 1 1 1 1 1 1 1]]\n",
            "\n",
            " Binary Characters:\n",
            "['1110000111', '1000000001', '0000000000', '1100000011', '1100000100', '1100000101', '1100000110', '1100000111', '0001001000', '1100001001', '1100001010', '1100001011', '1100001100', '1100001101', '1111111111']\n"
          ]
        }
      ],
      "source": [
        "# Convert binary rows to string, just like tokenization of binary stream\n",
        "binary_string = [''.join(str(bit) for bit in row) for row in pals_test]\n",
        "print(\"Binary Array:\")\n",
        "print(pals_test)\n",
        "print(\"\\n Binary Characters:\")\n",
        "print(binary_string)\n",
        "\n",
        "\n",
        "# assining each token a number to respresent that particular token\n",
        "token_ids = {}\n",
        "for idx, word in enumerate(binary_string):\n",
        "    token_ids[word] = idx\n",
        "token_ids_list = list(token_ids.values())"
      ]
    },
    {
      "cell_type": "code",
      "execution_count": null,
      "metadata": {
        "id": "Qx0pDN-cnTT1"
      },
      "outputs": [],
      "source": [
        "# Test inference\n",
        "hidden_output_test = relu(np.dot(pals_test, W1) + B1)"
      ]
    },
    {
      "cell_type": "code",
      "execution_count": null,
      "metadata": {
        "id": "X1vaUWoJnTT1",
        "outputId": "c625e8e9-9380-477c-b289-9b5ab35f25e3"
      },
      "outputs": [
        {
          "data": {
            "text/html": [
              "<html lang=\"en\">\n",
              "<script src=\"https://requirejs.org/docs/release/2.3.6/minified/require.js\"></script>\n",
              "<script>\n",
              "    var ecco_url = 'https://storage.googleapis.com/ml-intro/ecco/'\n",
              "    //var ecco_url = 'http://localhost:8000/'\n",
              "\n",
              "    if (window.ecco === undefined) window.ecco = {}\n",
              "\n",
              "    // Setup the paths of the script we'll be using\n",
              "    requirejs.config({\n",
              "        urlArgs: \"bust=\" + (new Date()).getTime(),\n",
              "        nodeRequire: require,\n",
              "        paths: {\n",
              "            d3: \"https://d3js.org/d3.v6.min\", // This is only for use in setup.html and basic.html\n",
              "            \"d3-array\": \"https://d3js.org/d3-array.v2.min\",\n",
              "            jquery: \"https://code.jquery.com/jquery-3.5.1.min\",\n",
              "            ecco: ecco_url + 'js/0.0.6/ecco-bundle.min',\n",
              "            xregexp: 'https://cdnjs.cloudflare.com/ajax/libs/xregexp/3.2.0/xregexp-all.min'\n",
              "        }\n",
              "    });\n",
              "\n",
              "    // Add the css file\n",
              "    //requirejs(['d3'],\n",
              "    //    function (d3) {\n",
              "    //        d3.select('#css').attr('href', ecco_url + 'html/styles.css')\n",
              "    //    })\n",
              "\n",
              "    console.log('Ecco initialize!!')\n",
              "\n",
              "    // returns a 'basic' object. basic.init() selects the html div we'll be\n",
              "    // rendering the html into, adds styles.css to the document.\n",
              "    define('basic', ['d3'],\n",
              "        function (d3) {\n",
              "            return {\n",
              "                init: function (viz_id = null) {\n",
              "                    if (viz_id == null) {\n",
              "                        viz_id = \"viz_\" + Math.round(Math.random() * 10000000)\n",
              "                    }\n",
              "                    // Select the div rendered below, change its id\n",
              "                    const div = d3.select('#basic').attr('id', viz_id),\n",
              "                        div_parent = d3.select('#' + viz_id).node().parentNode\n",
              "\n",
              "                    // Link to CSS file\n",
              "                    d3.select(div_parent).insert('link')\n",
              "                        .attr('rel', 'stylesheet')\n",
              "                        .attr('type', 'text/css')\n",
              "                        .attr('href', ecco_url + 'html/0.0.2/styles.css')\n",
              "\n",
              "                    return viz_id\n",
              "                }\n",
              "            }\n",
              "        }, function (err) {\n",
              "            console.log(err);\n",
              "        }\n",
              "    )\n",
              "</script>\n",
              "\n",
              "<head>\n",
              "    <link id='css' rel=\"stylesheet\" type=\"text/css\">\n",
              "</head>\n",
              "<div id=\"basic\"></div>\n"
            ],
            "text/plain": [
              "<IPython.core.display.HTML object>"
            ]
          },
          "metadata": {},
          "output_type": "display_data"
        },
        {
          "data": {
            "application/javascript": "\n         requirejs(['basic', 'ecco'], function(basic, ecco){\n            const viz_id = basic.init()\n            ecco.interactiveTokensAndFactorSparklines(viz_id, {'tokens': [{'token': '1110000111', 'token_id': 0, 'type': 'input', 'position': 0}, {'token': '1000000001', 'token_id': 1, 'type': 'input', 'position': 1}, {'token': '0000000000', 'token_id': 2, 'type': 'input', 'position': 2}, {'token': '1100000011', 'token_id': 3, 'type': 'input', 'position': 3}, {'token': '1100000100', 'token_id': 4, 'type': 'input', 'position': 4}, {'token': '1100000101', 'token_id': 5, 'type': 'input', 'position': 5}, {'token': '1100000110', 'token_id': 6, 'type': 'input', 'position': 6}, {'token': '1100000111', 'token_id': 7, 'type': 'input', 'position': 7}, {'token': '0001001000', 'token_id': 8, 'type': 'input', 'position': 8}, {'token': '1100001001', 'token_id': 9, 'type': 'input', 'position': 9}, {'token': '1100001010', 'token_id': 10, 'type': 'input', 'position': 10}, {'token': '1100001011', 'token_id': 11, 'type': 'input', 'position': 11}, {'token': '1100001100', 'token_id': 12, 'type': 'input', 'position': 12}, {'token': '1100001101', 'token_id': 13, 'type': 'input', 'position': 13}, {'token': '1111111111', 'token_id': 14, 'type': 'input', 'position': 14}], 'factors': [[[0.0, 0.0, 0.0, 0.0, 5.8892668539939965, 0.0, 4.113041265726107, 0.0, 0.0, 0.0, 9.052178102655393, 0.0, 2.625321387586163, 0.0, 0.003177814078000832], [0.010413011208642662, 0.007973493180584684, 0.004044887896621091, 0.007371229827104481, 2.0457551574450235, 0.0, 1.6974212767733077, 0.0, 0.0001407668422159519, 0.0, 2.661930758688158, 0.0, 1.1778310224212112, 0.0, 0.0], [0.1329508760653759, 0.13307244551626962, 0.1300070472647031, 0.09778612112424453, 0.0, 0.0, 0.0, 0.0, 7.744884072327054e-05, 0.0, 0.009014659173955488, 0.0, 0.012507543898982192, 0.0, 0.1334963349624341], [5.134326710503872e-17, 7.701490065755806e-17, 2.3104470197267424e-16, 0.05375931552429329, 0.0, 0.0, 0.0, 0.0, 0.1958741628638468, 0.0, 2.278357477786093e-16, 0.0, 4.1395509103437466e-16, 0.0, 1.2835816776259677e-16]]]},\n          )\n         }, function (err) {\n            console.log(err);\n        })",
            "text/plain": [
              "<IPython.core.display.Javascript object>"
            ]
          },
          "metadata": {},
          "output_type": "display_data"
        }
      ],
      "source": [
        "run_nmf = NMF(hidden_output_test,\n",
        "              n_components=4,  # n_components +1 patterns\n",
        "              token_ids=token_ids_list,\n",
        "              binary_string=binary_string\n",
        "              )\n",
        "run_nmf.explore()"
      ]
    },
    {
      "cell_type": "code",
      "execution_count": null,
      "metadata": {
        "id": "AHzW3yZJnTT1",
        "outputId": "9bd5db33-0d45-4c6f-b662-064d3721881f"
      },
      "outputs": [
        {
          "data": {
            "text/plain": [
              "array([[ 13.78115434,   9.26301367],\n",
              "       [  1.89945194,   1.22385856],\n",
              "       [  8.89262654,   5.96189205],\n",
              "       [  3.61448707,   2.48937111],\n",
              "       [ -6.1556164 ,  -4.11545452],\n",
              "       [  6.15508469,   4.11828427],\n",
              "       [ -3.61515806,  -2.5026291 ],\n",
              "       [ -8.8921577 ,  -5.95852006],\n",
              "       [ -1.89854722,  -1.22444749],\n",
              "       [-13.77902221,  -9.23789374]])"
            ]
          },
          "execution_count": 44,
          "metadata": {},
          "output_type": "execute_result"
        }
      ],
      "source": [
        "W1"
      ]
    },
    {
      "cell_type": "code",
      "execution_count": null,
      "metadata": {
        "id": "p-dqKHLmnTT1",
        "outputId": "eed19d64-a676-4f44-d493-75336416e33a"
      },
      "outputs": [
        {
          "data": {
            "image/png": "[encoded data removed]",
            "text/plain": [
              "<Figure size 800x600 with 2 Axes>"
            ]
          },
          "metadata": {},
          "output_type": "display_data"
        }
      ],
      "source": [
        "import numpy as np\n",
        "import matplotlib.pyplot as plt\n",
        "plt.figure(figsize=(8, 6))\n",
        "plt.imshow(W1, cmap='viridis', interpolation='nearest')\n",
        "plt.colorbar()\n",
        "plt.show()"
      ]
    },
    {
      "cell_type": "code",
      "execution_count": null,
      "metadata": {
        "id": "qoZ2D-BrnTT1"
      },
      "outputs": [],
      "source": []
    }
  ],
  "metadata": {
    "accelerator": "GPU",
    "colab": {
      "gpuType": "T4",
      "provenance": []
    },
    "kernelspec": {
      "display_name": "Python 3",
      "name": "python3"
    },
    "language_info": {
      "codemirror_mode": {
        "name": "ipython",
        "version": 3
      },
      "file_extension": ".py",
      "mimetype": "text/x-python",
      "name": "python",
      "nbconvert_exporter": "python",
      "pygments_lexer": "ipython3",
      "version": "3.8.18"
    }
  },
  "nbformat": 4,
  "nbformat_minor": 0
}